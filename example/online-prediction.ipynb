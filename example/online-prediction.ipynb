{
 "cells": [
  {
   "cell_type": "markdown",
   "metadata": {},
   "source": [
    "# Online prediction"
   ]
  },
  {
   "cell_type": "code",
   "execution_count": 2,
   "metadata": {},
   "outputs": [
    {
     "name": "stdout",
     "output_type": "stream",
     "text": [
      "Populating the interactive namespace from numpy and matplotlib\n"
     ]
    }
   ],
   "source": [
    "%pylab inline\n",
    "import pyowm\n",
    "import datetime\n",
    "import time\n",
    "import pandas as pd\n",
    "import tensorflow as tf\n",
    "import sys\n",
    "\n",
    "# Include additional module\n",
    "include_path = '../tensorflow_oop/'\n",
    "if include_path not in sys.path:\n",
    "    sys.path.append(include_path)\n",
    "from tensorflow_oop import *"
   ]
  },
  {
   "cell_type": "markdown",
   "metadata": {},
   "source": [
    "## Connecting"
   ]
  },
  {
   "cell_type": "code",
   "execution_count": 3,
   "metadata": {},
   "outputs": [
    {
     "data": {
      "text/plain": [
       "True"
      ]
     },
     "execution_count": 3,
     "metadata": {},
     "output_type": "execute_result"
    }
   ],
   "source": [
    "API_key = '0b4ee4cd202f86472987b438b565e83c'\n",
    "owm = pyowm.OWM(API_key, language='en', version='2.5')\n",
    "owm.is_API_online()"
   ]
  },
  {
   "cell_type": "markdown",
   "metadata": {},
   "source": [
    "## Collecting data"
   ]
  },
  {
   "cell_type": "markdown",
   "metadata": {},
   "source": [
    "### Getting Weather from Observation"
   ]
  },
  {
   "cell_type": "code",
   "execution_count": null,
   "metadata": {
    "collapsed": true
   },
   "outputs": [],
   "source": [
    "city_toponym = 'Moscow,RU'\n",
    "delay_sec = 30\n",
    "\n",
    "times = []\n",
    "humidities = []\n",
    "pressures = []\n",
    "temperatures = []\n",
    "\n",
    "while True:\n",
    "    # Get new weather\n",
    "    observation = owm.weather_at_place(city_toponym)\n",
    "    weather = observation.get_weather()\n",
    "    reference_time = weather.get_reference_time(timeformat='date')\n",
    "    humidity = weather.get_humidity()\n",
    "    pressure = weather.get_pressure()['press'] / 1.333\n",
    "    temperature = weather.get_temperature(unit='celsius')['temp']\n",
    "\n",
    "    # Save features\n",
    "    times.append(reference_time)\n",
    "    humidities.append(humidity)\n",
    "    pressures.append(pressure)\n",
    "    temperatures.append(temperature)\n",
    "    \n",
    "    # wait delay\n",
    "    print len(times), reference_time, humidity, pressure, temperature\n",
    "    time.sleep(delay_sec)"
   ]
  },
  {
   "cell_type": "markdown",
   "metadata": {},
   "source": [
    "### Convert to dataframe"
   ]
  },
  {
   "cell_type": "code",
   "execution_count": null,
   "metadata": {
    "collapsed": true
   },
   "outputs": [],
   "source": [
    "data = {'T' : temperatures,\n",
    "        'Po' : pressures,\n",
    "        'U' : humidities}\n",
    "df = pd.DataFrame(data, index=times)\n",
    "df.head()"
   ]
  },
  {
   "cell_type": "markdown",
   "metadata": {},
   "source": [
    "## Prediction"
   ]
  },
  {
   "cell_type": "markdown",
   "metadata": {},
   "source": [
    "### Load model"
   ]
  },
  {
   "cell_type": "code",
   "execution_count": 7,
   "metadata": {
    "collapsed": true
   },
   "outputs": [],
   "source": [
    "CHECKPOINT_PATH = '/tmp/prediction-model/fit-checkpoint-800'\n",
    "\n",
    "print('Loading model...')\n",
    "model = TFRegressor.load()\n",
    "print(model)"
   ]
  }
 ],
 "metadata": {
  "kernelspec": {
   "display_name": "Python 2",
   "language": "python",
   "name": "python2"
  },
  "language_info": {
   "codemirror_mode": {
    "name": "ipython",
    "version": 3
   },
   "file_extension": ".py",
   "mimetype": "text/x-python",
   "name": "python",
   "nbconvert_exporter": "python",
   "pygments_lexer": "ipython3",
   "version": "3.6.2"
  }
 },
 "nbformat": 4,
 "nbformat_minor": 2
}
