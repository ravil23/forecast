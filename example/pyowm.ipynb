{
 "cells": [
  {
   "cell_type": "markdown",
   "metadata": {
    "deletable": true,
    "editable": true
   },
   "source": [
    "# OpenWeatherMap API\n",
    "\n",
    "Installation and source code https://github.com/csparpa/pyowm\n",
    "\n",
    "More information in http://openweathermap.org/api\n",
    "\n",
    "Place -> Observation : [Weather, Location]\n",
    "\n",
    "Place -> Forecaster -> Forecast : [Weathers]"
   ]
  },
  {
   "cell_type": "code",
   "execution_count": 1,
   "metadata": {
    "collapsed": false,
    "deletable": true,
    "editable": true
   },
   "outputs": [
    {
     "name": "stdout",
     "output_type": "stream",
     "text": [
      "Populating the interactive namespace from numpy and matplotlib\n"
     ]
    }
   ],
   "source": [
    "%pylab inline\n",
    "import pyowm\n",
    "import datetime"
   ]
  },
  {
   "cell_type": "markdown",
   "metadata": {
    "deletable": true,
    "editable": true
   },
   "source": [
    "## Connecting"
   ]
  },
  {
   "cell_type": "code",
   "execution_count": 2,
   "metadata": {
    "collapsed": true,
    "deletable": true,
    "editable": true
   },
   "outputs": [],
   "source": [
    "API_key = '0b4ee4cd202f86472987b438b565e83c'\n",
    "owm = pyowm.OWM(API_key, language='en', version='2.5')"
   ]
  },
  {
   "cell_type": "markdown",
   "metadata": {
    "deletable": true,
    "editable": true
   },
   "source": [
    "### Checking if OWM web API is online"
   ]
  },
  {
   "cell_type": "code",
   "execution_count": 3,
   "metadata": {
    "collapsed": false,
    "deletable": true,
    "editable": true
   },
   "outputs": [
    {
     "data": {
      "text/plain": [
       "True"
      ]
     },
     "execution_count": 3,
     "metadata": {},
     "output_type": "execute_result"
    }
   ],
   "source": [
    "owm.is_API_online()"
   ]
  },
  {
   "cell_type": "markdown",
   "metadata": {
    "deletable": true,
    "editable": true
   },
   "source": [
    "## Getting currently observed weather for a specific location"
   ]
  },
  {
   "cell_type": "code",
   "execution_count": 4,
   "metadata": {
    "collapsed": true,
    "deletable": true,
    "editable": true
   },
   "outputs": [],
   "source": [
    "observation = owm.weather_at_place('London,GB')                    # Toponym\n",
    "observation = owm.weather_at_id(2643741)                           # City ID\n",
    "observation = owm.weather_at_coords(-0.107331,51.503614)           # lat/lon"
   ]
  },
  {
   "cell_type": "markdown",
   "metadata": {
    "deletable": true,
    "editable": true
   },
   "source": [
    "## Retrieving city ID and location by name"
   ]
  },
  {
   "cell_type": "code",
   "execution_count": 5,
   "metadata": {
    "collapsed": false,
    "deletable": true,
    "editable": true
   },
   "outputs": [
    {
     "data": {
      "text/plain": [
       "[(2643743, u'London', u'GB'),\n",
       " (4119617, u'London', u'US'),\n",
       " (4298960, u'London', u'US'),\n",
       " (4517009, u'London', u'US'),\n",
       " (5056033, u'London', u'US'),\n",
       " (5367815, u'London', u'US'),\n",
       " (6058560, u'London', u'CA')]"
      ]
     },
     "execution_count": 5,
     "metadata": {},
     "output_type": "execute_result"
    }
   ],
   "source": [
    "# Get city ID\n",
    "reg = owm.city_id_registry()\n",
    "reg.ids_for('London')"
   ]
  },
  {
   "cell_type": "code",
   "execution_count": 6,
   "metadata": {
    "collapsed": false,
    "deletable": true,
    "editable": true
   },
   "outputs": [
    {
     "data": {
      "text/plain": [
       "[<pyowm.webapi25.location.Location - id=4119617, name=London, lon=-93.25296, lat=35.328972>,\n",
       " <pyowm.webapi25.location.Location - id=4298960, name=London, lon=-84.08326, lat=37.128979>,\n",
       " <pyowm.webapi25.location.Location - id=4517009, name=London, lon=-83.44825, lat=39.886452>,\n",
       " <pyowm.webapi25.location.Location - id=5056033, name=London, lon=-95.234978, lat=40.445>,\n",
       " <pyowm.webapi25.location.Location - id=5367815, name=London, lon=-119.443176, lat=36.476059>]"
      ]
     },
     "execution_count": 6,
     "metadata": {},
     "output_type": "execute_result"
    }
   ],
   "source": [
    "# Get city location with filtering by country\n",
    "reg = owm.city_id_registry()\n",
    "reg.locations_for('London', country='US')"
   ]
  },
  {
   "cell_type": "code",
   "execution_count": 7,
   "metadata": {
    "collapsed": false,
    "deletable": true,
    "editable": true
   },
   "outputs": [
    {
     "name": "stdout",
     "output_type": "stream",
     "text": [
      "[]\n",
      "[(2643743, u'London', u'GB'), (4119617, u'London', u'US'), (4298960, u'London', u'US'), (4517009, u'London', u'US'), (5056033, u'London', u'US'), (5367815, u'London', u'US'), (6058560, u'London', u'CA')]\n",
      "[(2643741, u'City of London', u'GB'), (2643744, u'City of London', u'GB'), (1006984, u'East London', u'ZA'), (1644003, u'Glondong', u'ID'), (2648110, u'Greater London', u'GB'), (3489741, u'Little London', u'JM'), (7535661, u'London Borough of Harrow', u'GB'), (4030939, u'London Village', u'KI'), (2643743, u'London', u'GB'), (4119617, u'London', u'US'), (4298960, u'London', u'US'), (4517009, u'London', u'US'), (5056033, u'London', u'US'), (5367815, u'London', u'US'), (6058560, u'London', u'CA'), (2643734, u'Londonderry County Borough', u'GB'), (5088905, u'Londonderry', u'US'), (6058563, u'Londonderry', u'CA'), (4361094, u'Londontowne', u'US'), (4839420, u'New London County', u'US'), (4400423, u'New London', u'US'), (4839416, u'New London', u'US'), (4868768, u'New London', u'US'), (5039111, u'New London', u'US'), (5090189, u'New London', u'US'), (5164352, u'New London', u'US'), (5264455, u'New London', u'US')]\n"
     ]
    }
   ],
   "source": [
    "# Matching options\n",
    "print reg.ids_for(\"london\", matching='exact')  # literal matching\n",
    "print reg.ids_for(\"london\", matching='nocase') # case-insensitive\n",
    "print reg.ids_for(\"london\", matching='like')   # substring search"
   ]
  },
  {
   "cell_type": "markdown",
   "metadata": {
    "deletable": true,
    "editable": true
   },
   "source": [
    "## Currently observed weather extended search"
   ]
  },
  {
   "cell_type": "code",
   "execution_count": 8,
   "metadata": {
    "collapsed": false,
    "deletable": true,
    "editable": true
   },
   "outputs": [
    {
     "name": "stdout",
     "output_type": "stream",
     "text": [
      "[<pyowm.webapi25.observation.Observation - reception time=2017-09-07 14:38:18+00>, <pyowm.webapi25.observation.Observation - reception time=2017-09-07 14:38:18+00>, <pyowm.webapi25.observation.Observation - reception time=2017-09-07 14:38:18+00>, <pyowm.webapi25.observation.Observation - reception time=2017-09-07 14:38:18+00>, <pyowm.webapi25.observation.Observation - reception time=2017-09-07 14:38:18+00>]\n",
      "[<pyowm.webapi25.observation.Observation - reception time=2017-09-07 14:38:19+00>, <pyowm.webapi25.observation.Observation - reception time=2017-09-07 14:38:19+00>]\n",
      "[]\n"
     ]
    }
   ],
   "source": [
    "# Find observed weather in all the \"London\"s in the world\n",
    "print owm.weather_at_places('London', 'accurate')\n",
    "\n",
    "# Find observed weather for all the places whose name contains the word \"London\" and limit 3\n",
    "print owm.weather_at_places('London', 'like', limit=3)\n",
    "\n",
    "# Find observed weather for all the places in the surroundings of lon=-2.15,lat=57\n",
    "print owm.weather_around_coords(-2.15, 57)"
   ]
  },
  {
   "cell_type": "markdown",
   "metadata": {
    "deletable": true,
    "editable": true
   },
   "source": [
    "## Getting data from Observation objects"
   ]
  },
  {
   "cell_type": "code",
   "execution_count": 9,
   "metadata": {
    "collapsed": false,
    "deletable": true,
    "editable": true
   },
   "outputs": [
    {
     "name": "stdout",
     "output_type": "stream",
     "text": [
      "1504795100\n",
      "2017-09-07 14:38:20+00\n",
      "2017-09-07 14:38:20+00:00\n"
     ]
    }
   ],
   "source": [
    "city_toponym = 'Moscow,RU'\n",
    "observation = owm.weather_at_place(city_toponym)\n",
    "print observation.get_reception_time()                           # UNIX GMT time\n",
    "print observation.get_reception_time(timeformat='iso')           # ISO8601\n",
    "print observation.get_reception_time(timeformat='date')          # datetime.datetime instance"
   ]
  },
  {
   "cell_type": "markdown",
   "metadata": {
    "deletable": true,
    "editable": true
   },
   "source": [
    "### Getting Weather from Observation"
   ]
  },
  {
   "cell_type": "code",
   "execution_count": 10,
   "metadata": {
    "collapsed": false,
    "deletable": true,
    "editable": true
   },
   "outputs": [
    {
     "name": "stdout",
     "output_type": "stream",
     "text": [
      "1504792800\n",
      "2017-09-07 14:00:00+00\n",
      "2017-09-07 14:00:00+00:00\n",
      "75\n",
      "{}\n",
      "{}\n",
      "{u'speed': 1}\n",
      "72\n",
      "{'press': 1004, 'sea_level': None}\n",
      "{'temp_max': 288.15, 'temp_kf': None, 'temp': 287.9, 'temp_min': 287.15}\n",
      "{'temp_max': 15.0, 'temp_kf': None, 'temp': 14.75, 'temp_min': 14.0}\n",
      "{'temp_max': 59.0, 'temp_kf': None, 'temp': 58.55, 'temp_min': 57.2}\n",
      "Clouds\n",
      "broken clouds\n",
      "803\n",
      "04d\n",
      "1504752423\n",
      "2017-09-07 16:06:18+00\n"
     ]
    }
   ],
   "source": [
    "weather = observation.get_weather()\n",
    "print weather.get_reference_time()                             # get time of observation in GMT UNIXtime\n",
    "print weather.get_reference_time(timeformat='iso')             # ...or in ISO8601\n",
    "print weather.get_reference_time(timeformat='date')            # ...or as a datetime.datetime object\n",
    "print weather.get_clouds()                                     # Get cloud coverage\n",
    "print weather.get_rain()                                       # Get rain volume\n",
    "print weather.get_snow()                                       # Get snow volume\n",
    "print weather.get_wind()                                       # Get wind degree and speed\n",
    "print weather.get_humidity()                                   # Get humidity percentage\n",
    "print weather.get_pressure()                                   # Get atmospheric pressure\n",
    "print weather.get_temperature()                                # Get temperature in Kelvin\n",
    "print weather.get_temperature(unit='celsius')                  # ... or in Celsius degs\n",
    "print weather.get_temperature(unit='fahrenheit')               # ... or in Fahrenheit degs\n",
    "print weather.get_status()                                     # Get weather short status\n",
    "print weather.get_detailed_status()                            # Get detailed weather status\n",
    "print weather.get_weather_code()                               # Get OWM weather condition code\n",
    "print weather.get_weather_icon_name()                          # Get weather-related icon name\n",
    "print weather.get_sunrise_time()                               # Sunrise time (GMT UNIXtime or ISO 8601)\n",
    "print weather.get_sunset_time(timeformat='iso')                # Sunset time (GMT UNIXtime or ISO 8601)\n"
   ]
  },
  {
   "cell_type": "markdown",
   "metadata": {
    "deletable": true,
    "editable": true
   },
   "source": [
    "### Getting Location from Observation"
   ]
  },
  {
   "cell_type": "code",
   "execution_count": 11,
   "metadata": {
    "collapsed": false,
    "deletable": true,
    "editable": true
   },
   "outputs": [
    {
     "name": "stdout",
     "output_type": "stream",
     "text": [
      "Moscow\n",
      "RU\n",
      "37.62\n",
      "55.75\n",
      "524901\n"
     ]
    }
   ],
   "source": [
    "location = observation.get_location()\n",
    "print location.get_name()\n",
    "print location.get_country()\n",
    "print location.get_lon()\n",
    "print location.get_lat()\n",
    "print location.get_ID()"
   ]
  },
  {
   "cell_type": "markdown",
   "metadata": {
    "deletable": true,
    "editable": true
   },
   "source": [
    "## Getting weather forecasts"
   ]
  },
  {
   "cell_type": "code",
   "execution_count": 12,
   "metadata": {
    "collapsed": true,
    "deletable": true,
    "editable": true
   },
   "outputs": [],
   "source": [
    "# Query for 3 hours weather forecast for the next 5 days over London\n",
    "forecaster3h = owm.three_hours_forecast(city_toponym)\n",
    "\n",
    "# Query for daily weather forecast for the next 7 days over London\n",
    "forecaster1d = owm.daily_forecast(city_toponym)\n",
    "forecaster1d_6 = owm.daily_forecast(city_toponym, limit=6)"
   ]
  },
  {
   "cell_type": "code",
   "execution_count": 13,
   "metadata": {
    "collapsed": false,
    "deletable": true,
    "editable": true
   },
   "outputs": [
    {
     "name": "stdout",
     "output_type": "stream",
     "text": [
      "2017-09-07 14:38:21+00\n",
      "daily\n",
      "7\n",
      "<pyowm.webapi25.location.Location - id=524901, name=Moscow, lon=37.6156, lat=55.7522>\n"
     ]
    }
   ],
   "source": [
    "forecast = forecaster1d.get_forecast()\n",
    "# When has the forecast been received?\n",
    "print forecast.get_reception_time(timeformat='iso')                    # ISO8601\n",
    "\n",
    "# Which time interval for the forecast?\n",
    "print forecast.get_interval()\n",
    "\n",
    "# How many weather items are in the forecast?\n",
    "print len(forecast)\n",
    "\n",
    "# Get Location\n",
    "print forecast.get_location()"
   ]
  },
  {
   "cell_type": "code",
   "execution_count": 14,
   "metadata": {
    "collapsed": false,
    "deletable": true,
    "editable": true
   },
   "outputs": [
    {
     "name": "stdout",
     "output_type": "stream",
     "text": [
      "[<pyowm.webapi25.weather.Weather - reference time=2017-09-07 09:00:00+00, status=Rain>, <pyowm.webapi25.weather.Weather - reference time=2017-09-08 09:00:00+00, status=Rain>, <pyowm.webapi25.weather.Weather - reference time=2017-09-09 09:00:00+00, status=Rain>, <pyowm.webapi25.weather.Weather - reference time=2017-09-10 09:00:00+00, status=Rain>, <pyowm.webapi25.weather.Weather - reference time=2017-09-11 09:00:00+00, status=Rain>, <pyowm.webapi25.weather.Weather - reference time=2017-09-12 09:00:00+00, status=Rain>, <pyowm.webapi25.weather.Weather - reference time=2017-09-13 09:00:00+00, status=Rain>]\n",
      "2017-09-07 09:00:00+00 Rain\n",
      "2017-09-08 09:00:00+00 Rain\n",
      "2017-09-09 09:00:00+00 Rain\n",
      "2017-09-10 09:00:00+00 Rain\n",
      "2017-09-11 09:00:00+00 Rain\n",
      "2017-09-12 09:00:00+00 Rain\n",
      "2017-09-13 09:00:00+00 Rain\n"
     ]
    }
   ],
   "source": [
    "# Get the list of Weather objects...\n",
    "print forecast.get_weathers()\n",
    "\n",
    "# ...or iterate directly over the Forecast object\n",
    "for weather in forecast:\n",
    "    print weather.get_reference_time(timeformat='iso'), weather.get_status()"
   ]
  },
  {
   "cell_type": "code",
   "execution_count": 15,
   "metadata": {
    "collapsed": false,
    "deletable": true,
    "editable": true
   },
   "outputs": [
    {
     "data": {
      "text/plain": [
       "<pyowm.webapi25.weather.Weather - reference time=2017-09-08 09:00:00+00, status=Rain>"
      ]
     },
     "execution_count": 15,
     "metadata": {},
     "output_type": "execute_result"
    }
   ],
   "source": [
    "# Tell me the weather for tomorrow at this hour\n",
    "date_tomorrow = datetime.datetime.now() + datetime.timedelta(days=1)\n",
    "forecaster1d.get_weather_at(date_tomorrow)"
   ]
  },
  {
   "cell_type": "code",
   "execution_count": 16,
   "metadata": {
    "collapsed": false,
    "deletable": true,
    "editable": true
   },
   "outputs": [
    {
     "name": "stdout",
     "output_type": "stream",
     "text": [
      "2017-09-08 17:38:00\n",
      "2017-09-06 23:27:00\n",
      "2017-09-07 20:38:21.652055\n",
      "2017-09-08 20:38:21.645685\n"
     ]
    }
   ],
   "source": [
    "print pyowm.timeutils.tomorrow()                              # Tomorrow at this hour\n",
    "print pyowm.timeutils.yesterday(23, 27)                       # Yesterday at 23:27\n",
    "print pyowm.timeutils.next_three_hours()                      # 3 hours from now\n",
    "print pyowm.timeutils.next_three_hours(date_tomorrow)         # 3 hours from a specific datetime"
   ]
  }
 ],
 "metadata": {
  "kernelspec": {
   "display_name": "Python 2",
   "language": "python",
   "name": "python2"
  },
  "language_info": {
   "codemirror_mode": {
    "name": "ipython",
    "version": 2
   },
   "file_extension": ".py",
   "mimetype": "text/x-python",
   "name": "python",
   "nbconvert_exporter": "python",
   "pygments_lexer": "ipython2",
   "version": "2.7.12+"
  }
 },
 "nbformat": 4,
 "nbformat_minor": 2
}
