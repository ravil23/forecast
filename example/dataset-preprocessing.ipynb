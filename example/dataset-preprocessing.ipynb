{
 "cells": [
  {
   "cell_type": "markdown",
   "metadata": {},
   "source": [
    "# Dataset preprocessing"
   ]
  },
  {
   "cell_type": "code",
   "execution_count": 1,
   "metadata": {},
   "outputs": [
    {
     "name": "stdout",
     "output_type": "stream",
     "text": [
      "Populating the interactive namespace from numpy and matplotlib\n"
     ]
    }
   ],
   "source": [
    "%pylab inline\n",
    "import pandas as pd\n",
    "import sys\n",
    "import warnings\n",
    "warnings.filterwarnings('ignore')\n",
    "\n",
    "# Include additional module\n",
    "include_path = '../include'\n",
    "if include_path not in sys.path:\n",
    "    sys.path.append(include_path)\n",
    "from tensorflow_oop import *"
   ]
  },
  {
   "cell_type": "markdown",
   "metadata": {},
   "source": [
    "## Clean historical data file"
   ]
  },
  {
   "cell_type": "code",
   "execution_count": 2,
   "metadata": {
    "collapsed": true
   },
   "outputs": [],
   "source": [
    "def clean_file(filename):\n",
    "    \"\"\"\n",
    "    Clean historical data file and write result to new file.\n",
    "    Input:\n",
    "        filename : string\n",
    "    Output:\n",
    "        cleaned_filename : string\n",
    "    \"\"\"\n",
    "    # Parse input file\n",
    "    with open(filename) as f:\n",
    "        lines = []\n",
    "        for line in f:\n",
    "            # Skip comment lines\n",
    "            if line[0] != '#':\n",
    "                line = line.replace('\\n', '')\n",
    "                line = line.replace('\\r', '')\n",
    "                if line[-1] == ';':\n",
    "                    # Delete last empty delimiter\n",
    "                    line = line[:-1]\n",
    "                lines.append(line + '\\n')\n",
    "\n",
    "    # Write result to new file\n",
    "    cleaned_filename = filename + '.cleaned.csv'\n",
    "    with open(cleaned_filename, 'w') as f:\n",
    "        f.writelines(lines)\n",
    "\n",
    "    return cleaned_filename"
   ]
  },
  {
   "cell_type": "code",
   "execution_count": 3,
   "metadata": {},
   "outputs": [
    {
     "name": "stdout",
     "output_type": "stream",
     "text": [
      "Cleaning...\n",
      "Cleaned filename: ../data/27612.01.01.2005.11.08.2017.1.0.0.en.utf8.00000000.csv.cleaned.csv\n"
     ]
    }
   ],
   "source": [
    "FILENAME = '../data/27612.01.01.2005.11.08.2017.1.0.0.en.utf8.00000000.csv'\n",
    "\n",
    "print 'Cleaning...'\n",
    "cleaned_filename = clean_file(FILENAME)\n",
    "print 'Cleaned filename:', cleaned_filename"
   ]
  },
  {
   "cell_type": "markdown",
   "metadata": {},
   "source": [
    "## Load dataframe"
   ]
  },
  {
   "cell_type": "code",
   "execution_count": 4,
   "metadata": {
    "collapsed": true
   },
   "outputs": [],
   "source": [
    "def load_dataframe(filename):\n",
    "    \"\"\"\n",
    "    Load dataframe from csv.\n",
    "    Input:\n",
    "        filename : string\n",
    "    Output:\n",
    "        df : pandas.core.frame.DataFrame\n",
    "    \"\"\"\n",
    "    # Read file\n",
    "    df = pd.read_csv(filename, delimiter=';', quotechar='\"')\n",
    "    \n",
    "    # Convert string to datetime format\n",
    "    df['time'] = pd.to_datetime(df.iloc[:,0], format='%d.%m.%Y %H:%M')\n",
    "    \n",
    "    # Set time as index\n",
    "    df = df.set_index('time')\n",
    "    \n",
    "    # Resample with timedelta 3 hours and fill new rows with NaN\n",
    "    df = df.resample('3H').asfreq()\n",
    "    \n",
    "    # Preprocessing amount of precipitation\n",
    "    df['RRR'] = df['RRR'].replace('No precipitation', 0.)\n",
    "    df['RRR'] = df['RRR'].replace('Trace of precipitation', np.nan)\n",
    "    df['RRR'] = pd.to_numeric(df['RRR'])\n",
    "    return df"
   ]
  },
  {
   "cell_type": "code",
   "execution_count": 5,
   "metadata": {},
   "outputs": [
    {
     "name": "stdout",
     "output_type": "stream",
     "text": [
      "Loading...\n",
      "Dataframe shape: (36599, 29)\n"
     ]
    },
    {
     "data": {
      "text/html": [
       "<div>\n",
       "<style>\n",
       "    .dataframe thead tr:only-child th {\n",
       "        text-align: right;\n",
       "    }\n",
       "\n",
       "    .dataframe thead th {\n",
       "        text-align: left;\n",
       "    }\n",
       "\n",
       "    .dataframe tbody tr th {\n",
       "        vertical-align: top;\n",
       "    }\n",
       "</style>\n",
       "<table border=\"1\" class=\"dataframe\">\n",
       "  <thead>\n",
       "    <tr style=\"text-align: right;\">\n",
       "      <th></th>\n",
       "      <th>Local time in Moscow</th>\n",
       "      <th>T</th>\n",
       "      <th>Po</th>\n",
       "      <th>P</th>\n",
       "      <th>Pa</th>\n",
       "      <th>U</th>\n",
       "      <th>DD</th>\n",
       "      <th>Ff</th>\n",
       "      <th>ff10</th>\n",
       "      <th>ff3</th>\n",
       "      <th>...</th>\n",
       "      <th>Cm</th>\n",
       "      <th>Ch</th>\n",
       "      <th>VV</th>\n",
       "      <th>Td</th>\n",
       "      <th>RRR</th>\n",
       "      <th>tR</th>\n",
       "      <th>E</th>\n",
       "      <th>Tg</th>\n",
       "      <th>E'</th>\n",
       "      <th>sss</th>\n",
       "    </tr>\n",
       "    <tr>\n",
       "      <th>time</th>\n",
       "      <th></th>\n",
       "      <th></th>\n",
       "      <th></th>\n",
       "      <th></th>\n",
       "      <th></th>\n",
       "      <th></th>\n",
       "      <th></th>\n",
       "      <th></th>\n",
       "      <th></th>\n",
       "      <th></th>\n",
       "      <th></th>\n",
       "      <th></th>\n",
       "      <th></th>\n",
       "      <th></th>\n",
       "      <th></th>\n",
       "      <th></th>\n",
       "      <th></th>\n",
       "      <th></th>\n",
       "      <th></th>\n",
       "      <th></th>\n",
       "      <th></th>\n",
       "    </tr>\n",
       "  </thead>\n",
       "  <tbody>\n",
       "    <tr>\n",
       "      <th>2005-02-01 03:00:00</th>\n",
       "      <td>01.02.2005 03:00</td>\n",
       "      <td>-8.6</td>\n",
       "      <td>743.0</td>\n",
       "      <td>758.1</td>\n",
       "      <td>NaN</td>\n",
       "      <td>89.0</td>\n",
       "      <td>Wind blowing from the south-east</td>\n",
       "      <td>2.0</td>\n",
       "      <td>NaN</td>\n",
       "      <td>NaN</td>\n",
       "      <td>...</td>\n",
       "      <td>Altostratus translucidus.</td>\n",
       "      <td>Cirrocumulus alone, or Cirrocumulus accompanie...</td>\n",
       "      <td>NaN</td>\n",
       "      <td>-10.1</td>\n",
       "      <td>NaN</td>\n",
       "      <td>NaN</td>\n",
       "      <td>NaN</td>\n",
       "      <td>NaN</td>\n",
       "      <td>NaN</td>\n",
       "      <td>NaN</td>\n",
       "    </tr>\n",
       "    <tr>\n",
       "      <th>2005-02-01 06:00:00</th>\n",
       "      <td>01.02.2005 06:00</td>\n",
       "      <td>-8.2</td>\n",
       "      <td>742.8</td>\n",
       "      <td>757.9</td>\n",
       "      <td>NaN</td>\n",
       "      <td>90.0</td>\n",
       "      <td>Wind blowing from the south-east</td>\n",
       "      <td>3.0</td>\n",
       "      <td>NaN</td>\n",
       "      <td>NaN</td>\n",
       "      <td>...</td>\n",
       "      <td>Altostratus translucidus.</td>\n",
       "      <td>Cirrocumulus alone, or Cirrocumulus accompanie...</td>\n",
       "      <td>NaN</td>\n",
       "      <td>-9.6</td>\n",
       "      <td>2.0</td>\n",
       "      <td>12.0</td>\n",
       "      <td>NaN</td>\n",
       "      <td>NaN</td>\n",
       "      <td>NaN</td>\n",
       "      <td>NaN</td>\n",
       "    </tr>\n",
       "    <tr>\n",
       "      <th>2005-02-01 09:00:00</th>\n",
       "      <td>01.02.2005 09:00</td>\n",
       "      <td>-8.6</td>\n",
       "      <td>743.5</td>\n",
       "      <td>758.6</td>\n",
       "      <td>NaN</td>\n",
       "      <td>89.0</td>\n",
       "      <td>Wind blowing from the south-east</td>\n",
       "      <td>3.0</td>\n",
       "      <td>NaN</td>\n",
       "      <td>NaN</td>\n",
       "      <td>...</td>\n",
       "      <td>Altostratus translucidus.</td>\n",
       "      <td>Cirrocumulus alone, or Cirrocumulus accompanie...</td>\n",
       "      <td>4</td>\n",
       "      <td>-10.1</td>\n",
       "      <td>3.0</td>\n",
       "      <td>12.0</td>\n",
       "      <td>NaN</td>\n",
       "      <td>NaN</td>\n",
       "      <td>Even layer of loose dry snow covering ground c...</td>\n",
       "      <td>43</td>\n",
       "    </tr>\n",
       "    <tr>\n",
       "      <th>2005-02-01 12:00:00</th>\n",
       "      <td>01.02.2005 12:00</td>\n",
       "      <td>-7.1</td>\n",
       "      <td>745.0</td>\n",
       "      <td>760.0</td>\n",
       "      <td>NaN</td>\n",
       "      <td>85.0</td>\n",
       "      <td>Wind blowing from the south-east</td>\n",
       "      <td>3.0</td>\n",
       "      <td>NaN</td>\n",
       "      <td>NaN</td>\n",
       "      <td>...</td>\n",
       "      <td>NaN</td>\n",
       "      <td>NaN</td>\n",
       "      <td>10</td>\n",
       "      <td>-9.2</td>\n",
       "      <td>NaN</td>\n",
       "      <td>NaN</td>\n",
       "      <td>NaN</td>\n",
       "      <td>NaN</td>\n",
       "      <td>NaN</td>\n",
       "      <td>NaN</td>\n",
       "    </tr>\n",
       "    <tr>\n",
       "      <th>2005-02-01 15:00:00</th>\n",
       "      <td>01.02.2005 15:00</td>\n",
       "      <td>-6.6</td>\n",
       "      <td>746.8</td>\n",
       "      <td>761.8</td>\n",
       "      <td>NaN</td>\n",
       "      <td>83.0</td>\n",
       "      <td>Wind blowing from the south-east</td>\n",
       "      <td>3.0</td>\n",
       "      <td>NaN</td>\n",
       "      <td>NaN</td>\n",
       "      <td>...</td>\n",
       "      <td>Altocumulus castellanus or floccus.</td>\n",
       "      <td>Cirrocumulus alone, or Cirrocumulus accompanie...</td>\n",
       "      <td>4</td>\n",
       "      <td>-9.0</td>\n",
       "      <td>NaN</td>\n",
       "      <td>NaN</td>\n",
       "      <td>NaN</td>\n",
       "      <td>NaN</td>\n",
       "      <td>NaN</td>\n",
       "      <td>NaN</td>\n",
       "    </tr>\n",
       "  </tbody>\n",
       "</table>\n",
       "<p>5 rows × 29 columns</p>\n",
       "</div>"
      ],
      "text/plain": [
       "                    Local time in Moscow    T     Po      P  Pa     U  \\\n",
       "time                                                                    \n",
       "2005-02-01 03:00:00     01.02.2005 03:00 -8.6  743.0  758.1 NaN  89.0   \n",
       "2005-02-01 06:00:00     01.02.2005 06:00 -8.2  742.8  757.9 NaN  90.0   \n",
       "2005-02-01 09:00:00     01.02.2005 09:00 -8.6  743.5  758.6 NaN  89.0   \n",
       "2005-02-01 12:00:00     01.02.2005 12:00 -7.1  745.0  760.0 NaN  85.0   \n",
       "2005-02-01 15:00:00     01.02.2005 15:00 -6.6  746.8  761.8 NaN  83.0   \n",
       "\n",
       "                                                   DD   Ff  ff10  ff3 ...   \\\n",
       "time                                                                  ...    \n",
       "2005-02-01 03:00:00  Wind blowing from the south-east  2.0   NaN  NaN ...    \n",
       "2005-02-01 06:00:00  Wind blowing from the south-east  3.0   NaN  NaN ...    \n",
       "2005-02-01 09:00:00  Wind blowing from the south-east  3.0   NaN  NaN ...    \n",
       "2005-02-01 12:00:00  Wind blowing from the south-east  3.0   NaN  NaN ...    \n",
       "2005-02-01 15:00:00  Wind blowing from the south-east  3.0   NaN  NaN ...    \n",
       "\n",
       "                                                      Cm  \\\n",
       "time                                                       \n",
       "2005-02-01 03:00:00            Altostratus translucidus.   \n",
       "2005-02-01 06:00:00            Altostratus translucidus.   \n",
       "2005-02-01 09:00:00            Altostratus translucidus.   \n",
       "2005-02-01 12:00:00                                  NaN   \n",
       "2005-02-01 15:00:00  Altocumulus castellanus or floccus.   \n",
       "\n",
       "                                                                    Ch   VV  \\\n",
       "time                                                                          \n",
       "2005-02-01 03:00:00  Cirrocumulus alone, or Cirrocumulus accompanie...  NaN   \n",
       "2005-02-01 06:00:00  Cirrocumulus alone, or Cirrocumulus accompanie...  NaN   \n",
       "2005-02-01 09:00:00  Cirrocumulus alone, or Cirrocumulus accompanie...    4   \n",
       "2005-02-01 12:00:00                                                NaN   10   \n",
       "2005-02-01 15:00:00  Cirrocumulus alone, or Cirrocumulus accompanie...    4   \n",
       "\n",
       "                       Td  RRR    tR    E  Tg  \\\n",
       "time                                            \n",
       "2005-02-01 03:00:00 -10.1  NaN   NaN  NaN NaN   \n",
       "2005-02-01 06:00:00  -9.6  2.0  12.0  NaN NaN   \n",
       "2005-02-01 09:00:00 -10.1  3.0  12.0  NaN NaN   \n",
       "2005-02-01 12:00:00  -9.2  NaN   NaN  NaN NaN   \n",
       "2005-02-01 15:00:00  -9.0  NaN   NaN  NaN NaN   \n",
       "\n",
       "                                                                    E'  sss  \n",
       "time                                                                         \n",
       "2005-02-01 03:00:00                                                NaN  NaN  \n",
       "2005-02-01 06:00:00                                                NaN  NaN  \n",
       "2005-02-01 09:00:00  Even layer of loose dry snow covering ground c...   43  \n",
       "2005-02-01 12:00:00                                                NaN  NaN  \n",
       "2005-02-01 15:00:00                                                NaN  NaN  \n",
       "\n",
       "[5 rows x 29 columns]"
      ]
     },
     "execution_count": 5,
     "metadata": {},
     "output_type": "execute_result"
    }
   ],
   "source": [
    "print 'Loading...'\n",
    "df = load_dataframe(cleaned_filename)\n",
    "print 'Dataframe shape:', df.shape\n",
    "\n",
    "df.head()"
   ]
  },
  {
   "cell_type": "markdown",
   "metadata": {},
   "source": [
    "## Preprocessing"
   ]
  },
  {
   "cell_type": "markdown",
   "metadata": {},
   "source": [
    "### Getting features"
   ]
  },
  {
   "cell_type": "code",
   "execution_count": 6,
   "metadata": {},
   "outputs": [
    {
     "name": "stdout",
     "output_type": "stream",
     "text": [
      "Features shape: (36599, 3)\n"
     ]
    }
   ],
   "source": [
    "features = df[['T','Po','U']]\n",
    "print 'Features shape:', features.shape"
   ]
  },
  {
   "cell_type": "markdown",
   "metadata": {},
   "source": [
    "### Interpolate NaN values"
   ]
  },
  {
   "cell_type": "code",
   "execution_count": 7,
   "metadata": {
    "scrolled": false
   },
   "outputs": [
    {
     "name": "stdout",
     "output_type": "stream",
     "text": [
      "Interpolated NaN values count:\n",
      "T     187\n",
      "Po    290\n",
      "U     209\n",
      "dtype: int64\n"
     ]
    }
   ],
   "source": [
    "nan_count = features.isnull().sum()\n",
    "features = features.interpolate()\n",
    "print 'Interpolated NaN values count:\\n', nan_count"
   ]
  },
  {
   "cell_type": "markdown",
   "metadata": {},
   "source": [
    "### Normalization"
   ]
  },
  {
   "cell_type": "code",
   "execution_count": 8,
   "metadata": {},
   "outputs": [
    {
     "name": "stdout",
     "output_type": "stream",
     "text": [
      "Features mean:\n",
      "T       6.698204\n",
      "Po    747.578297\n",
      "U      76.997760\n",
      "dtype: float64\n",
      "\n",
      "Features std:\n",
      "T     11.029082\n",
      "Po     7.558408\n",
      "U     17.203492\n",
      "dtype: float64\n"
     ]
    }
   ],
   "source": [
    "print 'Features mean:\\n', features.mean()\n",
    "print\n",
    "print 'Features std:\\n', features.std()"
   ]
  },
  {
   "cell_type": "code",
   "execution_count": 9,
   "metadata": {},
   "outputs": [
    {
     "name": "stdout",
     "output_type": "stream",
     "text": [
      "Normed features mean:\n",
      "T    -2.903828e-16\n",
      "Po    8.321199e-13\n",
      "U     4.815860e-16\n",
      "dtype: float64\n",
      "\n",
      "Normed features std:\n",
      "T     1.0\n",
      "Po    1.0\n",
      "U     1.0\n",
      "dtype: float64\n"
     ]
    }
   ],
   "source": [
    "normed_features = (features - features.mean()) / features.std()\n",
    "print 'Normed features mean:\\n', normed_features.mean()\n",
    "print\n",
    "print 'Normed features std:\\n', normed_features.std()"
   ]
  },
  {
   "cell_type": "markdown",
   "metadata": {},
   "source": [
    "## Create dataset"
   ]
  },
  {
   "cell_type": "code",
   "execution_count": 10,
   "metadata": {
    "scrolled": false
   },
   "outputs": [],
   "source": [
    "def create_sequences(features, sequence_size):\n",
    "    \"\"\"\n",
    "    Create prediction sequences.\n",
    "    Input:\n",
    "        features : pandas.core.frame.DataFrame\n",
    "        sequence_size : int\n",
    "    Output:\n",
    "        data : list of sequences\n",
    "        labels : list of next value\n",
    "    \"\"\"\n",
    "    data = []\n",
    "    labels = []\n",
    "    for i in xrange(len(features) - SEQUENCE_SIZE - 1):\n",
    "        data.append(features.values[i : i + SEQUENCE_SIZE])\n",
    "        labels.append(features.values[i + SEQUENCE_SIZE])\n",
    "\n",
    "    return data, labels"
   ]
  },
  {
   "cell_type": "markdown",
   "metadata": {},
   "source": [
    "### Generate dataset"
   ]
  },
  {
   "cell_type": "code",
   "execution_count": 11,
   "metadata": {},
   "outputs": [
    {
     "name": "stdout",
     "output_type": "stream",
     "text": [
      "Generating dataset...\n",
      "Dataset shape: [36566, 32, 3] -> [36566, 3]\n"
     ]
    }
   ],
   "source": [
    "SEQUENCE_SIZE = 32\n",
    "\n",
    "print 'Generating dataset...'\n",
    "data, labels = create_sequences(normed_features, SEQUENCE_SIZE)\n",
    "dataset = TFDataset(data, labels)\n",
    "print 'Dataset shape:', dataset.data_shape_, '->', dataset.labels_shape_"
   ]
  },
  {
   "cell_type": "markdown",
   "metadata": {},
   "source": [
    "### Save dump of dataset"
   ]
  },
  {
   "cell_type": "code",
   "execution_count": 12,
   "metadata": {},
   "outputs": [
    {
     "name": "stdout",
     "output_type": "stream",
     "text": [
      "Saving dataset...\n",
      "Dataset saved to: ../data/moscow.dump\n"
     ]
    }
   ],
   "source": [
    "DUMP_PATH = '../data/moscow.dump'\n",
    "\n",
    "print 'Saving dataset...'\n",
    "dataset.save(DUMP_PATH)\n",
    "print 'Dataset saved to:', DUMP_PATH"
   ]
  },
  {
   "cell_type": "markdown",
   "metadata": {},
   "source": [
    "### Load dump of dataset"
   ]
  },
  {
   "cell_type": "code",
   "execution_count": 13,
   "metadata": {},
   "outputs": [
    {
     "name": "stdout",
     "output_type": "stream",
     "text": [
      "Loading dataset...\n",
      "Loaded dataset shape: [36566, 32, 3] -> [36566, 3]\n"
     ]
    }
   ],
   "source": [
    "print 'Loading dataset...'\n",
    "dataset.load(DUMP_PATH)\n",
    "print 'Loaded dataset shape:', dataset.data_shape_, '->', dataset.labels_shape_"
   ]
  }
 ],
 "metadata": {
  "kernelspec": {
   "display_name": "Python 2",
   "language": "python",
   "name": "python2"
  },
  "language_info": {
   "codemirror_mode": {
    "name": "ipython",
    "version": 2
   },
   "file_extension": ".py",
   "mimetype": "text/x-python",
   "name": "python",
   "nbconvert_exporter": "python",
   "pygments_lexer": "ipython2",
   "version": "2.7.13"
  }
 },
 "nbformat": 4,
 "nbformat_minor": 2
}
